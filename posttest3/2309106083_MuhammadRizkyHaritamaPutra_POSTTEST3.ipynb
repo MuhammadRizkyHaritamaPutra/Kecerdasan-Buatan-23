{
  "nbformat": 4,
  "nbformat_minor": 0,
  "metadata": {
    "colab": {
      "provenance": []
    },
    "kernelspec": {
      "name": "python3",
      "display_name": "Python 3"
    },
    "language_info": {
      "name": "python"
    }
  },
  "cells": [
    {
      "cell_type": "markdown",
      "source": [
        "Nama: Muhammad Rizky Haritama Putra <br>\n",
        "Nim: 2309106083<br>\n",
        "Posttest 3"
      ],
      "metadata": {
        "id": "0S4GFj3hJN0e"
      }
    },
    {
      "cell_type": "markdown",
      "source": [
        "Import Library"
      ],
      "metadata": {
        "id": "WmmpoE0aiiC3"
      }
    },
    {
      "cell_type": "code",
      "execution_count": 21,
      "metadata": {
        "id": "9hS2FyYghnL2"
      },
      "outputs": [],
      "source": [
        "import pandas as pd\n",
        "import numpy as np\n",
        "from sklearn.preprocessing import StandardScaler\n",
        "from sklearn.preprocessing import LabelEncoder\n",
        "from sklearn.model_selection import train_test_split"
      ]
    },
    {
      "cell_type": "markdown",
      "source": [
        "Buat ngebaca file csv dan mengubah nama kolom unnamed menjadi id"
      ],
      "metadata": {
        "id": "ooJl3yRPipdF"
      }
    },
    {
      "cell_type": "code",
      "source": [
        "df = pd.read_csv(\"HepatitisCdata.csv\")\n",
        "df = df.rename(columns={'Unnamed: 0': 'ID'})"
      ],
      "metadata": {
        "id": "4w35hiUAhwgr"
      },
      "execution_count": 22,
      "outputs": []
    },
    {
      "cell_type": "markdown",
      "source": [
        "\n",
        "Ngecek apakah terdapat missing value, duplicate value, dan outlier"
      ],
      "metadata": {
        "id": "vDYF-YeGiTZl"
      }
    },
    {
      "cell_type": "code",
      "source": [
        "print(\"=== CEK MISSING VALUE ===\")\n",
        "#cek missing value\n",
        "missing = df.isnull().sum()\n",
        "print(missing)"
      ],
      "metadata": {
        "colab": {
          "base_uri": "https://localhost:8080/"
        },
        "id": "WNUcr6-2h0IG",
        "outputId": "ecb0f072-9dd0-481d-9eaf-ef0c6bcefb0f"
      },
      "execution_count": 23,
      "outputs": [
        {
          "output_type": "stream",
          "name": "stdout",
          "text": [
            "=== CEK MISSING VALUE ===\n",
            "ID           0\n",
            "Category     0\n",
            "Age          0\n",
            "Sex          0\n",
            "ALB          1\n",
            "ALP         18\n",
            "ALT          1\n",
            "AST          0\n",
            "BIL          0\n",
            "CHE          0\n",
            "CHOL        10\n",
            "CREA         0\n",
            "GGT          0\n",
            "PROT         1\n",
            "dtype: int64\n"
          ]
        }
      ]
    },
    {
      "cell_type": "code",
      "source": [
        "# Cek Duplicate Value\n",
        "print(\"CEK DUPLICATE VALUE\")\n",
        "duplicate_count = df.duplicated().sum()\n",
        "print(duplicate_count)"
      ],
      "metadata": {
        "colab": {
          "base_uri": "https://localhost:8080/"
        },
        "id": "Xk2RTIRyh3TX",
        "outputId": "121323d2-0dec-4cde-971a-1e7ffcd397d3"
      },
      "execution_count": 24,
      "outputs": [
        {
          "output_type": "stream",
          "name": "stdout",
          "text": [
            "CEK DUPLICATE VALUE\n",
            "0\n"
          ]
        }
      ]
    },
    {
      "cell_type": "code",
      "source": [
        "#Cek Outlier (Metode IQR)\n",
        "print(\"CEK OUTLIER (IQR METHOD)\")\n",
        "\n",
        "numeric_cols = df.select_dtypes(include=[np.number]).columns\n",
        "\n",
        "for col in numeric_cols:\n",
        "    Q1 = df[col].quantile(0.25)\n",
        "    Q3 = df[col].quantile(0.75)\n",
        "    IQR = Q3 - Q1\n",
        "    lower = Q1 - 1.5 * IQR\n",
        "    upper = Q3 + 1.5 * IQR\n",
        "    outliers = ((df[col] < lower) | (df[col] > upper)).sum()\n",
        "    print(f\"{col}: {outliers} outlier\")"
      ],
      "metadata": {
        "colab": {
          "base_uri": "https://localhost:8080/"
        },
        "id": "dnESZ0K2h51S",
        "outputId": "d5c3fc54-4851-4409-ba62-1c114935511c"
      },
      "execution_count": 25,
      "outputs": [
        {
          "output_type": "stream",
          "name": "stdout",
          "text": [
            "CEK OUTLIER (IQR METHOD)\n",
            "ID: 0 outlier\n",
            "Age: 1 outlier\n",
            "ALB: 27 outlier\n",
            "ALP: 10 outlier\n",
            "ALT: 36 outlier\n",
            "AST: 64 outlier\n",
            "BIL: 47 outlier\n",
            "CHE: 24 outlier\n",
            "CHOL: 12 outlier\n",
            "CREA: 12 outlier\n",
            "GGT: 65 outlier\n",
            "PROT: 20 outlier\n"
          ]
        }
      ]
    },
    {
      "cell_type": "markdown",
      "source": [
        "Kode diatas digunakan untuk memeriksa kualitas data sebelum analisis. Pengecekan missing value dilakukan untuk menemukan data kosong yang bisa memengaruhi hasil dan perlu ditangani. Pengecekan duplicate value mendeteksi data ganda yang bisa menimbulkan bias. Pengecekan outlier dengan metode IQR digunakan untuk menemukan nilai ekstrem di luar batas wajar yang dapat mengganggu pola data. Langkah ini penting agar dataset bersih, akurat, dan siap digunakan untuk analisis atau pemodelan."
      ],
      "metadata": {
        "id": "E4I6Yr9HLPpU"
      }
    },
    {
      "cell_type": "markdown",
      "source": [
        "##1. Data cleaning"
      ],
      "metadata": {
        "id": "XhA0DX-VjKH7"
      }
    },
    {
      "cell_type": "code",
      "source": [
        "#Tangani missing value khusus kolom tertentu\n",
        "impute_cols = ['ALB', 'ALP', 'ALT', 'CHOL', 'PROT']\n",
        "print(\"\\n=== IMPUTASI NILAI HILANG ===\")\n",
        "\n",
        "for col in impute_cols:\n",
        "    if col in df.columns:\n",
        "        missing_count = df[col].isnull().sum()\n",
        "        if missing_count > 0:\n",
        "            median_val = df[col].median()\n",
        "            df[col] = df[col].fillna(median_val)\n",
        "            print(f\"Kolom {col}: {missing_count} nilai hilang → diganti median = {median_val:.2f}\")\n",
        "        else:\n",
        "            print(f\"Kolom {col}: tidak ada nilai hilang \")\n",
        "    else:\n",
        "        print(f\"Kolom {col} tidak ditemukan dalam dataset \")"
      ],
      "metadata": {
        "colab": {
          "base_uri": "https://localhost:8080/"
        },
        "id": "3P11pYEMh7e9",
        "outputId": "66c5ce87-2314-46c7-a9ad-bfdafb4029da"
      },
      "execution_count": 26,
      "outputs": [
        {
          "output_type": "stream",
          "name": "stdout",
          "text": [
            "\n",
            "=== IMPUTASI NILAI HILANG ===\n",
            "Kolom ALB: 1 nilai hilang → diganti median = 41.95\n",
            "Kolom ALP: 18 nilai hilang → diganti median = 66.20\n",
            "Kolom ALT: 1 nilai hilang → diganti median = 23.00\n",
            "Kolom CHOL: 10 nilai hilang → diganti median = 5.30\n",
            "Kolom PROT: 1 nilai hilang → diganti median = 72.20\n"
          ]
        }
      ]
    },
    {
      "cell_type": "code",
      "source": [
        "# Daftar kolom numerik yang akan diimputasi outliernya\n",
        "kolom_outlier = ['Age', 'ALB', 'ALP', 'ALT', 'AST',\n",
        "                 'BIL', 'CHE', 'CHOL', 'CREA', 'GGT', 'PROT']\n",
        "\n",
        "# Fungsi imputasi outlier dengan median\n",
        "def impute_outlier_iqr(df, kolom):\n",
        "    Q1 = df[kolom].quantile(0.25)\n",
        "    Q3 = df[kolom].quantile(0.75)\n",
        "    IQR = Q3 - Q1\n",
        "    lower = Q1 - 1.5 * IQR\n",
        "    upper = Q3 + 1.5 * IQR\n",
        "    median = df[kolom].median()\n",
        "\n",
        "    # Ganti nilai di bawah lower dan di atas upper dengan median\n",
        "    df.loc[df[kolom] < lower, kolom] = median\n",
        "    df.loc[df[kolom] > upper, kolom] = median\n",
        "\n",
        "# Terapkan ke semua kolom\n",
        "for kolom in kolom_outlier:\n",
        "    before = df[kolom].copy()\n",
        "    impute_outlier_iqr(df, kolom)\n",
        "    print(f\"{kolom}: imputasi selesai (median={df[kolom].median():.2f})\")\n",
        "\n",
        "print(\"\\nSemua outlier sudah diganti dengan median masing-masing kolom.\")"
      ],
      "metadata": {
        "colab": {
          "base_uri": "https://localhost:8080/"
        },
        "id": "WUozYCBmiC6I",
        "outputId": "0f0c4e55-ba90-425a-fb0d-0b44bee46165"
      },
      "execution_count": 27,
      "outputs": [
        {
          "output_type": "stream",
          "name": "stdout",
          "text": [
            "Age: imputasi selesai (median=47.00)\n",
            "ALB: imputasi selesai (median=41.95)\n",
            "ALP: imputasi selesai (median=66.20)\n",
            "ALT: imputasi selesai (median=23.00)\n",
            "AST: imputasi selesai (median=25.90)\n",
            "BIL: imputasi selesai (median=7.30)\n",
            "CHE: imputasi selesai (median=8.26)\n",
            "CHOL: imputasi selesai (median=5.30)\n",
            "CREA: imputasi selesai (median=77.00)\n",
            "GGT: imputasi selesai (median=23.30)\n",
            "PROT: imputasi selesai (median=72.20)\n",
            "\n",
            "Semua outlier sudah diganti dengan median masing-masing kolom.\n"
          ]
        }
      ]
    },
    {
      "cell_type": "code",
      "source": [
        "# menyimpan data csv setelah di clean\n",
        "df.to_csv(\"data_clean_HepatitisCdata.csv\", index=False)"
      ],
      "metadata": {
        "id": "kARQ6RvQxIK2"
      },
      "execution_count": 28,
      "outputs": []
    },
    {
      "cell_type": "markdown",
      "source": [
        "Kode ini menangani missing value dan outlier agar data lebih bersih. Nilai kosong di kolom tertentu diganti dengan median karena lebih stabil terhadap nilai ekstrem. Outlier dideteksi dengan metode IQR lalu diganti median agar distribusi data tetap wajar tanpa menghapus data. Langkah ini membuat dataset lebih konsisten dan siap dianalisis."
      ],
      "metadata": {
        "id": "9NAiV_jSL1fF"
      }
    },
    {
      "cell_type": "markdown",
      "source": [
        "##2. Normalisasi / Standarisasi Kolom Numerik"
      ],
      "metadata": {
        "id": "tSHBCxwmje6J"
      }
    },
    {
      "cell_type": "code",
      "source": [
        "# Baca dataset\n",
        "df = pd.read_csv(\"data_clean_HepatitisCdata.csv\")"
      ],
      "metadata": {
        "id": "2IdeiofcxVCq"
      },
      "execution_count": 29,
      "outputs": []
    },
    {
      "cell_type": "code",
      "source": [
        "# Normalisasi / standarisasi untuk kolom numerik\n",
        "scaler = StandardScaler()\n",
        "num_cols = ['Age','ALB', 'ALP', 'ALT', 'CHOL', 'PROT','AST','BIL','CHE','CREA','GGT']\n",
        "df[num_cols] = scaler.fit_transform(df[num_cols])\n",
        "\n",
        "print(\"\\nKolom numerik telah distandarisasi.\")\n",
        "df[num_cols].head()"
      ],
      "metadata": {
        "colab": {
          "base_uri": "https://localhost:8080/",
          "height": 241
        },
        "id": "DGC7kPNTjfmO",
        "outputId": "c277fd48-227e-4bcf-96d4-03ce2ef6d9ba"
      },
      "execution_count": 30,
      "outputs": [
        {
          "output_type": "stream",
          "name": "stdout",
          "text": [
            "\n",
            "Kolom numerik telah distandarisasi.\n"
          ]
        },
        {
          "output_type": "execute_result",
          "data": {
            "text/plain": [
              "        Age       ALB       ALP       ALT      CHOL      PROT       AST  \\\n",
              "0 -1.539675 -0.844293 -0.758827 -1.485073 -2.069345 -0.818096 -0.597660   \n",
              "1 -1.539675 -0.844293  0.222981 -0.535580 -0.515308  0.946857 -0.216403   \n",
              "2 -1.539675  1.150866  0.465675  1.142164 -0.119375  1.605772 -0.040439   \n",
              "3 -1.539675  0.272046 -0.786406  0.625935 -0.574698  0.758595 -0.524342   \n",
              "4 -1.539675 -0.678029  0.432580  0.810303 -0.990428 -0.888694 -0.201740   \n",
              "\n",
              "        BIL       CHE      CREA       GGT  \n",
              "0 -0.104753 -0.728265  1.966669 -0.925294  \n",
              "1 -1.035802  1.634733 -0.286894 -0.690955  \n",
              "2 -0.466828  0.336199  0.558192  0.487436  \n",
              "3  2.843567 -0.505341  0.135649  0.527609  \n",
              "4  0.438358  0.508965 -0.146046  0.266488  "
            ],
            "text/html": [
              "\n",
              "  <div id=\"df-9fcde32a-1813-4e37-80ff-57be6f74ee88\" class=\"colab-df-container\">\n",
              "    <div>\n",
              "<style scoped>\n",
              "    .dataframe tbody tr th:only-of-type {\n",
              "        vertical-align: middle;\n",
              "    }\n",
              "\n",
              "    .dataframe tbody tr th {\n",
              "        vertical-align: top;\n",
              "    }\n",
              "\n",
              "    .dataframe thead th {\n",
              "        text-align: right;\n",
              "    }\n",
              "</style>\n",
              "<table border=\"1\" class=\"dataframe\">\n",
              "  <thead>\n",
              "    <tr style=\"text-align: right;\">\n",
              "      <th></th>\n",
              "      <th>Age</th>\n",
              "      <th>ALB</th>\n",
              "      <th>ALP</th>\n",
              "      <th>ALT</th>\n",
              "      <th>CHOL</th>\n",
              "      <th>PROT</th>\n",
              "      <th>AST</th>\n",
              "      <th>BIL</th>\n",
              "      <th>CHE</th>\n",
              "      <th>CREA</th>\n",
              "      <th>GGT</th>\n",
              "    </tr>\n",
              "  </thead>\n",
              "  <tbody>\n",
              "    <tr>\n",
              "      <th>0</th>\n",
              "      <td>-1.539675</td>\n",
              "      <td>-0.844293</td>\n",
              "      <td>-0.758827</td>\n",
              "      <td>-1.485073</td>\n",
              "      <td>-2.069345</td>\n",
              "      <td>-0.818096</td>\n",
              "      <td>-0.597660</td>\n",
              "      <td>-0.104753</td>\n",
              "      <td>-0.728265</td>\n",
              "      <td>1.966669</td>\n",
              "      <td>-0.925294</td>\n",
              "    </tr>\n",
              "    <tr>\n",
              "      <th>1</th>\n",
              "      <td>-1.539675</td>\n",
              "      <td>-0.844293</td>\n",
              "      <td>0.222981</td>\n",
              "      <td>-0.535580</td>\n",
              "      <td>-0.515308</td>\n",
              "      <td>0.946857</td>\n",
              "      <td>-0.216403</td>\n",
              "      <td>-1.035802</td>\n",
              "      <td>1.634733</td>\n",
              "      <td>-0.286894</td>\n",
              "      <td>-0.690955</td>\n",
              "    </tr>\n",
              "    <tr>\n",
              "      <th>2</th>\n",
              "      <td>-1.539675</td>\n",
              "      <td>1.150866</td>\n",
              "      <td>0.465675</td>\n",
              "      <td>1.142164</td>\n",
              "      <td>-0.119375</td>\n",
              "      <td>1.605772</td>\n",
              "      <td>-0.040439</td>\n",
              "      <td>-0.466828</td>\n",
              "      <td>0.336199</td>\n",
              "      <td>0.558192</td>\n",
              "      <td>0.487436</td>\n",
              "    </tr>\n",
              "    <tr>\n",
              "      <th>3</th>\n",
              "      <td>-1.539675</td>\n",
              "      <td>0.272046</td>\n",
              "      <td>-0.786406</td>\n",
              "      <td>0.625935</td>\n",
              "      <td>-0.574698</td>\n",
              "      <td>0.758595</td>\n",
              "      <td>-0.524342</td>\n",
              "      <td>2.843567</td>\n",
              "      <td>-0.505341</td>\n",
              "      <td>0.135649</td>\n",
              "      <td>0.527609</td>\n",
              "    </tr>\n",
              "    <tr>\n",
              "      <th>4</th>\n",
              "      <td>-1.539675</td>\n",
              "      <td>-0.678029</td>\n",
              "      <td>0.432580</td>\n",
              "      <td>0.810303</td>\n",
              "      <td>-0.990428</td>\n",
              "      <td>-0.888694</td>\n",
              "      <td>-0.201740</td>\n",
              "      <td>0.438358</td>\n",
              "      <td>0.508965</td>\n",
              "      <td>-0.146046</td>\n",
              "      <td>0.266488</td>\n",
              "    </tr>\n",
              "  </tbody>\n",
              "</table>\n",
              "</div>\n",
              "    <div class=\"colab-df-buttons\">\n",
              "\n",
              "  <div class=\"colab-df-container\">\n",
              "    <button class=\"colab-df-convert\" onclick=\"convertToInteractive('df-9fcde32a-1813-4e37-80ff-57be6f74ee88')\"\n",
              "            title=\"Convert this dataframe to an interactive table.\"\n",
              "            style=\"display:none;\">\n",
              "\n",
              "  <svg xmlns=\"http://www.w3.org/2000/svg\" height=\"24px\" viewBox=\"0 -960 960 960\">\n",
              "    <path d=\"M120-120v-720h720v720H120Zm60-500h600v-160H180v160Zm220 220h160v-160H400v160Zm0 220h160v-160H400v160ZM180-400h160v-160H180v160Zm440 0h160v-160H620v160ZM180-180h160v-160H180v160Zm440 0h160v-160H620v160Z\"/>\n",
              "  </svg>\n",
              "    </button>\n",
              "\n",
              "  <style>\n",
              "    .colab-df-container {\n",
              "      display:flex;\n",
              "      gap: 12px;\n",
              "    }\n",
              "\n",
              "    .colab-df-convert {\n",
              "      background-color: #E8F0FE;\n",
              "      border: none;\n",
              "      border-radius: 50%;\n",
              "      cursor: pointer;\n",
              "      display: none;\n",
              "      fill: #1967D2;\n",
              "      height: 32px;\n",
              "      padding: 0 0 0 0;\n",
              "      width: 32px;\n",
              "    }\n",
              "\n",
              "    .colab-df-convert:hover {\n",
              "      background-color: #E2EBFA;\n",
              "      box-shadow: 0px 1px 2px rgba(60, 64, 67, 0.3), 0px 1px 3px 1px rgba(60, 64, 67, 0.15);\n",
              "      fill: #174EA6;\n",
              "    }\n",
              "\n",
              "    .colab-df-buttons div {\n",
              "      margin-bottom: 4px;\n",
              "    }\n",
              "\n",
              "    [theme=dark] .colab-df-convert {\n",
              "      background-color: #3B4455;\n",
              "      fill: #D2E3FC;\n",
              "    }\n",
              "\n",
              "    [theme=dark] .colab-df-convert:hover {\n",
              "      background-color: #434B5C;\n",
              "      box-shadow: 0px 1px 3px 1px rgba(0, 0, 0, 0.15);\n",
              "      filter: drop-shadow(0px 1px 2px rgba(0, 0, 0, 0.3));\n",
              "      fill: #FFFFFF;\n",
              "    }\n",
              "  </style>\n",
              "\n",
              "    <script>\n",
              "      const buttonEl =\n",
              "        document.querySelector('#df-9fcde32a-1813-4e37-80ff-57be6f74ee88 button.colab-df-convert');\n",
              "      buttonEl.style.display =\n",
              "        google.colab.kernel.accessAllowed ? 'block' : 'none';\n",
              "\n",
              "      async function convertToInteractive(key) {\n",
              "        const element = document.querySelector('#df-9fcde32a-1813-4e37-80ff-57be6f74ee88');\n",
              "        const dataTable =\n",
              "          await google.colab.kernel.invokeFunction('convertToInteractive',\n",
              "                                                    [key], {});\n",
              "        if (!dataTable) return;\n",
              "\n",
              "        const docLinkHtml = 'Like what you see? Visit the ' +\n",
              "          '<a target=\"_blank\" href=https://colab.research.google.com/notebooks/data_table.ipynb>data table notebook</a>'\n",
              "          + ' to learn more about interactive tables.';\n",
              "        element.innerHTML = '';\n",
              "        dataTable['output_type'] = 'display_data';\n",
              "        await google.colab.output.renderOutput(dataTable, element);\n",
              "        const docLink = document.createElement('div');\n",
              "        docLink.innerHTML = docLinkHtml;\n",
              "        element.appendChild(docLink);\n",
              "      }\n",
              "    </script>\n",
              "  </div>\n",
              "\n",
              "\n",
              "    <div id=\"df-4de376c2-b80f-430e-9277-a29d965dddbb\">\n",
              "      <button class=\"colab-df-quickchart\" onclick=\"quickchart('df-4de376c2-b80f-430e-9277-a29d965dddbb')\"\n",
              "                title=\"Suggest charts\"\n",
              "                style=\"display:none;\">\n",
              "\n",
              "<svg xmlns=\"http://www.w3.org/2000/svg\" height=\"24px\"viewBox=\"0 0 24 24\"\n",
              "     width=\"24px\">\n",
              "    <g>\n",
              "        <path d=\"M19 3H5c-1.1 0-2 .9-2 2v14c0 1.1.9 2 2 2h14c1.1 0 2-.9 2-2V5c0-1.1-.9-2-2-2zM9 17H7v-7h2v7zm4 0h-2V7h2v10zm4 0h-2v-4h2v4z\"/>\n",
              "    </g>\n",
              "</svg>\n",
              "      </button>\n",
              "\n",
              "<style>\n",
              "  .colab-df-quickchart {\n",
              "      --bg-color: #E8F0FE;\n",
              "      --fill-color: #1967D2;\n",
              "      --hover-bg-color: #E2EBFA;\n",
              "      --hover-fill-color: #174EA6;\n",
              "      --disabled-fill-color: #AAA;\n",
              "      --disabled-bg-color: #DDD;\n",
              "  }\n",
              "\n",
              "  [theme=dark] .colab-df-quickchart {\n",
              "      --bg-color: #3B4455;\n",
              "      --fill-color: #D2E3FC;\n",
              "      --hover-bg-color: #434B5C;\n",
              "      --hover-fill-color: #FFFFFF;\n",
              "      --disabled-bg-color: #3B4455;\n",
              "      --disabled-fill-color: #666;\n",
              "  }\n",
              "\n",
              "  .colab-df-quickchart {\n",
              "    background-color: var(--bg-color);\n",
              "    border: none;\n",
              "    border-radius: 50%;\n",
              "    cursor: pointer;\n",
              "    display: none;\n",
              "    fill: var(--fill-color);\n",
              "    height: 32px;\n",
              "    padding: 0;\n",
              "    width: 32px;\n",
              "  }\n",
              "\n",
              "  .colab-df-quickchart:hover {\n",
              "    background-color: var(--hover-bg-color);\n",
              "    box-shadow: 0 1px 2px rgba(60, 64, 67, 0.3), 0 1px 3px 1px rgba(60, 64, 67, 0.15);\n",
              "    fill: var(--button-hover-fill-color);\n",
              "  }\n",
              "\n",
              "  .colab-df-quickchart-complete:disabled,\n",
              "  .colab-df-quickchart-complete:disabled:hover {\n",
              "    background-color: var(--disabled-bg-color);\n",
              "    fill: var(--disabled-fill-color);\n",
              "    box-shadow: none;\n",
              "  }\n",
              "\n",
              "  .colab-df-spinner {\n",
              "    border: 2px solid var(--fill-color);\n",
              "    border-color: transparent;\n",
              "    border-bottom-color: var(--fill-color);\n",
              "    animation:\n",
              "      spin 1s steps(1) infinite;\n",
              "  }\n",
              "\n",
              "  @keyframes spin {\n",
              "    0% {\n",
              "      border-color: transparent;\n",
              "      border-bottom-color: var(--fill-color);\n",
              "      border-left-color: var(--fill-color);\n",
              "    }\n",
              "    20% {\n",
              "      border-color: transparent;\n",
              "      border-left-color: var(--fill-color);\n",
              "      border-top-color: var(--fill-color);\n",
              "    }\n",
              "    30% {\n",
              "      border-color: transparent;\n",
              "      border-left-color: var(--fill-color);\n",
              "      border-top-color: var(--fill-color);\n",
              "      border-right-color: var(--fill-color);\n",
              "    }\n",
              "    40% {\n",
              "      border-color: transparent;\n",
              "      border-right-color: var(--fill-color);\n",
              "      border-top-color: var(--fill-color);\n",
              "    }\n",
              "    60% {\n",
              "      border-color: transparent;\n",
              "      border-right-color: var(--fill-color);\n",
              "    }\n",
              "    80% {\n",
              "      border-color: transparent;\n",
              "      border-right-color: var(--fill-color);\n",
              "      border-bottom-color: var(--fill-color);\n",
              "    }\n",
              "    90% {\n",
              "      border-color: transparent;\n",
              "      border-bottom-color: var(--fill-color);\n",
              "    }\n",
              "  }\n",
              "</style>\n",
              "\n",
              "      <script>\n",
              "        async function quickchart(key) {\n",
              "          const quickchartButtonEl =\n",
              "            document.querySelector('#' + key + ' button');\n",
              "          quickchartButtonEl.disabled = true;  // To prevent multiple clicks.\n",
              "          quickchartButtonEl.classList.add('colab-df-spinner');\n",
              "          try {\n",
              "            const charts = await google.colab.kernel.invokeFunction(\n",
              "                'suggestCharts', [key], {});\n",
              "          } catch (error) {\n",
              "            console.error('Error during call to suggestCharts:', error);\n",
              "          }\n",
              "          quickchartButtonEl.classList.remove('colab-df-spinner');\n",
              "          quickchartButtonEl.classList.add('colab-df-quickchart-complete');\n",
              "        }\n",
              "        (() => {\n",
              "          let quickchartButtonEl =\n",
              "            document.querySelector('#df-4de376c2-b80f-430e-9277-a29d965dddbb button');\n",
              "          quickchartButtonEl.style.display =\n",
              "            google.colab.kernel.accessAllowed ? 'block' : 'none';\n",
              "        })();\n",
              "      </script>\n",
              "    </div>\n",
              "\n",
              "    </div>\n",
              "  </div>\n"
            ],
            "application/vnd.google.colaboratory.intrinsic+json": {
              "type": "dataframe",
              "summary": "{\n  \"name\": \"df[num_cols]\",\n  \"rows\": 5,\n  \"fields\": [\n    {\n      \"column\": \"Age\",\n      \"properties\": {\n        \"dtype\": \"number\",\n        \"std\": 0.0,\n        \"min\": -1.539674981872495,\n        \"max\": -1.539674981872495,\n        \"num_unique_values\": 1,\n        \"samples\": [\n          -1.539674981872495\n        ],\n        \"semantic_type\": \"\",\n        \"description\": \"\"\n      }\n    },\n    {\n      \"column\": \"ALB\",\n      \"properties\": {\n        \"dtype\": \"number\",\n        \"std\": 0.8811598136375052,\n        \"min\": -0.8442927032687477,\n        \"max\": 1.1508658462424137,\n        \"num_unique_values\": 4,\n        \"samples\": [\n          1.1508658462424137\n        ],\n        \"semantic_type\": \"\",\n        \"description\": \"\"\n      }\n    },\n    {\n      \"column\": \"ALP\",\n      \"properties\": {\n        \"dtype\": \"number\",\n        \"std\": 0.6348221493935444,\n        \"min\": -0.786405788978288,\n        \"max\": 0.46567477590103695,\n        \"num_unique_values\": 5,\n        \"samples\": [\n          0.22298074570416312\n        ],\n        \"semantic_type\": \"\",\n        \"description\": \"\"\n      }\n    },\n    {\n      \"column\": \"ALT\",\n      \"properties\": {\n        \"dtype\": \"number\",\n        \"std\": 1.0935031298299847,\n        \"min\": -1.4850730303753787,\n        \"max\": 1.1421643974481557,\n        \"num_unique_values\": 5,\n        \"samples\": [\n          -0.5355802055830138\n        ],\n        \"semantic_type\": \"\",\n        \"description\": \"\"\n      }\n    },\n    {\n      \"column\": \"CHOL\",\n      \"properties\": {\n        \"dtype\": \"number\",\n        \"std\": 0.7463362705492289,\n        \"min\": -2.0693452676330164,\n        \"max\": -0.11937539938737866,\n        \"num_unique_values\": 5,\n        \"samples\": [\n          -0.515308367559082\n        ],\n        \"semantic_type\": \"\",\n        \"description\": \"\"\n      }\n    },\n    {\n      \"column\": \"PROT\",\n      \"properties\": {\n        \"dtype\": \"number\",\n        \"std\": 1.1174442711974961,\n        \"min\": -0.8886944483947283,\n        \"max\": 1.605772337002579,\n        \"num_unique_values\": 5,\n        \"samples\": [\n          0.9468565823693282\n        ],\n        \"semantic_type\": \"\",\n        \"description\": \"\"\n      }\n    },\n    {\n      \"column\": \"AST\",\n      \"properties\": {\n        \"dtype\": \"number\",\n        \"std\": 0.23539748152926135,\n        \"min\": -0.5976604567518943,\n        \"max\": -0.04043852767299252,\n        \"num_unique_values\": 5,\n        \"samples\": [\n          -0.21640334738211942\n        ],\n        \"semantic_type\": \"\",\n        \"description\": \"\"\n      }\n    },\n    {\n      \"column\": \"BIL\",\n      \"properties\": {\n        \"dtype\": \"number\",\n        \"std\": 1.5015826090304776,\n        \"min\": -1.0358020875011715,\n        \"max\": 2.8435671046543676,\n        \"num_unique_values\": 5,\n        \"samples\": [\n          -1.0358020875011715\n        ],\n        \"semantic_type\": \"\",\n        \"description\": \"\"\n      }\n    },\n    {\n      \"column\": \"CHE\",\n      \"properties\": {\n        \"dtype\": \"number\",\n        \"std\": 0.9380189364452047,\n        \"min\": -0.728264851547424,\n        \"max\": 1.6347332532184076,\n        \"num_unique_values\": 5,\n        \"samples\": [\n          1.6347332532184076\n        ],\n        \"semantic_type\": \"\",\n        \"description\": \"\"\n      }\n    },\n    {\n      \"column\": \"CREA\",\n      \"properties\": {\n        \"dtype\": \"number\",\n        \"std\": 0.9095317394108806,\n        \"min\": -0.28689421634113477,\n        \"max\": 1.9666693573770448,\n        \"num_unique_values\": 5,\n        \"samples\": [\n          -0.28689421634113477\n        ],\n        \"semantic_type\": \"\",\n        \"description\": \"\"\n      }\n    },\n    {\n      \"column\": \"GGT\",\n      \"properties\": {\n        \"dtype\": \"number\",\n        \"std\": 0.688868882272962,\n        \"min\": -0.9252939220923602,\n        \"max\": 0.5276087084238754,\n        \"num_unique_values\": 5,\n        \"samples\": [\n          -0.6909547881381286\n        ],\n        \"semantic_type\": \"\",\n        \"description\": \"\"\n      }\n    }\n  ]\n}"
            }
          },
          "metadata": {},
          "execution_count": 30
        }
      ]
    },
    {
      "cell_type": "code",
      "source": [
        "#menyimpan data csv setelah di normalisasi\n",
        "df.to_csv(\"data_normalisasi_HepatitisCdata.csv\", index=False)"
      ],
      "metadata": {
        "id": "NM8Wei1IyH_m"
      },
      "execution_count": 31,
      "outputs": []
    },
    {
      "cell_type": "markdown",
      "source": [
        "Kode ini melakukan standarisasi pada kolom numerik menggunakan StandardScaler. Proses ini mengubah setiap kolom agar memiliki rata-rata 0 dan standar deviasi 1, sehingga skala semua fitur menjadi sebanding. Standarisasi penting karena banyak algoritma machine learning sensitif terhadap perbedaan skala antarfitur. Dengan langkah ini, data menjadi lebih seimbang dan siap digunakan untuk analisis atau pemodelan."
      ],
      "metadata": {
        "id": "6BfR8XjGMH3T"
      }
    },
    {
      "cell_type": "markdown",
      "source": [
        "##3. Encoding Kolom Kategorikal"
      ],
      "metadata": {
        "id": "Mh3Y1DkWm5UR"
      }
    },
    {
      "cell_type": "code",
      "source": [
        "# ngebaca file csv\n",
        "df = pd.read_csv(\"data_normalisasi_HepatitisCdata.csv\")"
      ],
      "metadata": {
        "id": "r8kUCCNWyNdU"
      },
      "execution_count": 32,
      "outputs": []
    },
    {
      "cell_type": "code",
      "source": [
        "# Encode gender (f=0, m=1)\n",
        "df[\"Sex\"] = df[\"Sex\"].astype(str).str.strip().str.lower().map({\"f\": 0, \"m\": 1})\n",
        "print(df[\"Sex\"].head())\n",
        "\n"
      ],
      "metadata": {
        "colab": {
          "base_uri": "https://localhost:8080/"
        },
        "id": "5hVm_o5Bm75l",
        "outputId": "ba8efc79-62e7-4a02-c766-feafe4db362b"
      },
      "execution_count": 33,
      "outputs": [
        {
          "output_type": "stream",
          "name": "stdout",
          "text": [
            "0    1\n",
            "1    1\n",
            "2    1\n",
            "3    1\n",
            "4    1\n",
            "Name: Sex, dtype: int64\n"
          ]
        }
      ]
    },
    {
      "cell_type": "code",
      "source": [
        "df[\"Category\"] = (\n",
        "    df[\"Category\"]\n",
        "    .astype(str)\n",
        "    .str.strip()\n",
        "    .str.lower()\n",
        "    .map({\n",
        "        \"0=blood donor\": 0,\n",
        "        \"1=hepatitis\": 1,\n",
        "        \"2=fibrosis\": 2,\n",
        "        \"3=cirrhosis\": 3,\n",
        "        \"0s=suspect blood donor\": 4\n",
        "    })\n",
        ")\n",
        "print(df[\"Category\"].unique())"
      ],
      "metadata": {
        "id": "5k4kF5p7ndaF",
        "colab": {
          "base_uri": "https://localhost:8080/"
        },
        "outputId": "5e0e012a-70f6-48ec-8cbe-297616a807f1"
      },
      "execution_count": 34,
      "outputs": [
        {
          "output_type": "stream",
          "name": "stdout",
          "text": [
            "[0 4 1 2 3]\n"
          ]
        }
      ]
    },
    {
      "cell_type": "code",
      "source": [
        "# menyimpan data csv setelah di encod\n",
        "df.to_csv(\"data_encod_HepatitisCdata.csv\", index=False)"
      ],
      "metadata": {
        "id": "rn2L_HnAx8tC"
      },
      "execution_count": 35,
      "outputs": []
    },
    {
      "cell_type": "markdown",
      "source": [
        "Kode ini melakukan encoding pada kolom kategorik agar dapat diproses sebagai data numerik. Pada kolom Sex, nilai 'f' diubah menjadi 0 dan 'm' menjadi 1 agar bisa digunakan dalam analisis atau model. Sedangkan pada kolom Category, setiap kategori teks (seperti blood donor, hepatitis, fibrosis, dll.) dipetakan ke angka tertentu. Proses ini penting karena algoritma machine learning tidak dapat memproses data berupa teks, sehingga perlu diubah menjadi format numerik yang konsisten."
      ],
      "metadata": {
        "id": "y7a8eOdCMgCc"
      }
    },
    {
      "cell_type": "markdown",
      "source": [
        "##4. Feature Engineering"
      ],
      "metadata": {
        "id": "HakavRkHysN7"
      }
    },
    {
      "cell_type": "code",
      "source": [
        "#ngebaca file csv\n",
        "df = pd.read_csv(\"data_encod_HepatitisCdata.csv\")"
      ],
      "metadata": {
        "id": "ZlEGhoTKys23"
      },
      "execution_count": 36,
      "outputs": []
    },
    {
      "cell_type": "code",
      "source": [
        "# Rasio AST/ALT versi aman\n",
        "df[\"AST_ALT_ratio\"] = df[\"AST\"] / (df[\"ALT\"] + 1e-6)\n",
        "\n",
        "# Gunakan nilai absolut agar tidak ada log negatif\n",
        "df[\"log_AST_ALT_ratio\"] = np.log(np.abs(df[\"AST_ALT_ratio\"]) + 1e-6)\n",
        "\n",
        "# Cek hasil kolom baru\n",
        "print(df[[\"AST\", \"ALT\", \"AST_ALT_ratio\", \"log_AST_ALT_ratio\"]].head())\n",
        "\n",
        "# Cek korelasi dengan target Category\n",
        "if \"Category\" in df.columns:\n",
        "    corr = df[[\"AST_ALT_ratio\", \"log_AST_ALT_ratio\", \"Category\"]].corr()\n",
        "    print(\"\\nKorelasi terhadap target Category:\")\n",
        "    print(corr[\"Category\"].sort_values(ascending=False))\n",
        "\n",
        "# Simpan dataset baru ke file CSV\n",
        "df.to_csv(\"data_feature_HepatitisCdata.csv\", index=False)"
      ],
      "metadata": {
        "colab": {
          "base_uri": "https://localhost:8080/"
        },
        "id": "eEDk28Lg1tvc",
        "outputId": "f44c46c8-2996-4145-fa85-845de7818118"
      },
      "execution_count": 37,
      "outputs": [
        {
          "output_type": "stream",
          "name": "stdout",
          "text": [
            "        AST       ALT  AST_ALT_ratio  log_AST_ALT_ratio\n",
            "0 -0.597660 -1.485073       0.402445          -0.910193\n",
            "1 -0.216403 -0.535580       0.404055          -0.906202\n",
            "2 -0.040439  1.142164      -0.035405          -3.340870\n",
            "3 -0.524342  0.625935      -0.837692          -0.177104\n",
            "4 -0.201740  0.810303      -0.248968          -1.390427\n",
            "\n",
            "Korelasi terhadap target Category:\n",
            "Category             1.000000\n",
            "AST_ALT_ratio       -0.024096\n",
            "log_AST_ALT_ratio   -0.298636\n",
            "Name: Category, dtype: float64\n"
          ]
        }
      ]
    },
    {
      "cell_type": "markdown",
      "source": [
        "Kode ini membuat fitur baru untuk analisis. Kolom AST_ALT_ratio dihitung sebagai rasio AST / ALT untuk melihat keseimbangan kedua enzim hati. Ditambahkan nilai kecil 1e-6 agar tidak terjadi pembagian nol. Lalu dibuat kolom log_AST_ALT_ratio dengan logaritma dari nilai rasio untuk menstabilkan sebaran data dan menghindari log negatif.\n",
        "Selanjutnya, dilakukan korelasi antara fitur baru dengan kolom target Category untuk mengecek seberapa besar hubungan rasio ini dengan label penyakit. Terakhir, dataset yang sudah diperbarui disimpan ke file CSV agar bisa digunakan untuk analisis atau pemodelan berikutnya."
      ],
      "metadata": {
        "id": "Xq0oRM3WMriv"
      }
    },
    {
      "cell_type": "markdown",
      "source": [
        "##5. Splitting Data ke Training & Testing"
      ],
      "metadata": {
        "id": "0n53LiGS2aep"
      }
    },
    {
      "cell_type": "code",
      "source": [
        "#ngebaca file csv\n",
        "df = pd.read_csv(\"data_feature_HepatitisCdata.csv\")"
      ],
      "metadata": {
        "id": "HjrNXlPN2dYc"
      },
      "execution_count": 38,
      "outputs": []
    },
    {
      "cell_type": "code",
      "source": [
        "# Pisahkan fitur (X) dan target (y)\n",
        "X = df.drop(columns=[\"Category\"])   # semua kolom kecuali target\n",
        "y = df[\"Category\"]                  # target (label kelas)\n",
        "\n",
        "# Split data: 80% training, 20% testing (bisa disesuaikan)\n",
        "X_train, X_test, y_train, y_test = train_test_split(\n",
        "    X, y, test_size=0.2, random_state=42, stratify=y\n",
        ")\n",
        "\n",
        "# Tampilkan hasil\n",
        "print(\"Ukuran dataset keseluruhan:\", df.shape)\n",
        "print(\"Training set:\", X_train.shape)\n",
        "print(\"Testing set:\", X_test.shape)"
      ],
      "metadata": {
        "colab": {
          "base_uri": "https://localhost:8080/"
        },
        "id": "9R4I3O3L3ANl",
        "outputId": "2f05af08-d71a-4d8c-8c60-e911a1ac45a0"
      },
      "execution_count": 39,
      "outputs": [
        {
          "output_type": "stream",
          "name": "stdout",
          "text": [
            "Ukuran dataset keseluruhan: (615, 16)\n",
            "Training set: (492, 15)\n",
            "Testing set: (123, 15)\n"
          ]
        }
      ]
    },
    {
      "cell_type": "markdown",
      "source": [
        "Kode ini digunakan untuk memisahkan data menjadi fitur dan target, lalu membagi dataset menjadi data latih dan data uji.\n",
        "Pertama, variabel X berisi semua kolom kecuali Category sebagai fitur, sedangkan y hanya berisi kolom Category sebagai target (label). Kemudian, train_test_split digunakan untuk membagi data menjadi 80% untuk training dan 20% untuk testing dengan parameter stratify=y agar distribusi kelas target tetap seimbang di kedua subset.\n",
        "Langkah ini penting agar model dapat belajar dari data latih dan diuji performanya pada data uji yang belum pernah dilihat, sehingga hasil evaluasi menjadi lebih objektif."
      ],
      "metadata": {
        "id": "W96cGdLPM6Wa"
      }
    }
  ]
}