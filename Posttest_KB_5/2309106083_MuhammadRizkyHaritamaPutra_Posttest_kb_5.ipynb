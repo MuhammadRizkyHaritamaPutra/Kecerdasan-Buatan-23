{
  "nbformat": 4,
  "nbformat_minor": 0,
  "metadata": {
    "colab": {
      "provenance": []
    },
    "kernelspec": {
      "name": "python3",
      "display_name": "Python 3"
    },
    "language_info": {
      "name": "python"
    }
  },
  "cells": [
    {
      "cell_type": "markdown",
      "source": [
        "#Nama: Muhammad Rizky Haritama Putra\n",
        "#Nim: 2309106083\n",
        "#Posttest 5\n"
      ],
      "metadata": {
        "id": "P7I-tX8NqFxV"
      }
    },
    {
      "cell_type": "markdown",
      "source": [
        "#Import Library"
      ],
      "metadata": {
        "id": "OUrH8RzVfZhU"
      }
    },
    {
      "cell_type": "code",
      "source": [
        "import pandas as pd\n",
        "import numpy as np\n",
        "import matplotlib.pyplot as plt\n",
        "from sklearn.model_selection import train_test_split\n",
        "from sklearn.preprocessing import LabelEncoder, StandardScaler\n",
        "from tensorflow.keras.models import Sequential\n",
        "from tensorflow.keras.layers import Dense, Dropout\n",
        "from tensorflow.keras.utils import to_categorical"
      ],
      "metadata": {
        "id": "5Mszx5GwaidX"
      },
      "execution_count": null,
      "outputs": []
    },
    {
      "cell_type": "markdown",
      "source": [
        "pandas dan numpy digunakan untuk pengolahan data, sklearn untuk preprocessing dan pembagian dataset, sedangkan tensorflow.keras untuk membangun model neural network."
      ],
      "metadata": {
        "id": "dDc6-qf0fmPL"
      }
    },
    {
      "cell_type": "markdown",
      "source": [
        "#Membaca dataset"
      ],
      "metadata": {
        "id": "GYG_-KsBiID3"
      }
    },
    {
      "cell_type": "code",
      "source": [
        "df = pd.read_csv(\"data_feature_HepatitisCdata.csv\")"
      ],
      "metadata": {
        "id": "jkGPEVxlamG8"
      },
      "execution_count": null,
      "outputs": []
    },
    {
      "cell_type": "markdown",
      "source": [
        "#Menampilkan 5 data tearatas"
      ],
      "metadata": {
        "id": "TQdbMt6piOq_"
      }
    },
    {
      "cell_type": "code",
      "source": [
        "# Lihat 5 data pertama\n",
        "print(df.head())"
      ],
      "metadata": {
        "colab": {
          "base_uri": "https://localhost:8080/"
        },
        "id": "hgapdp6PgCOK",
        "outputId": "76053885-b650-4902-c2d8-fc41173dfd51"
      },
      "execution_count": null,
      "outputs": [
        {
          "output_type": "stream",
          "name": "stdout",
          "text": [
            "   ID  Category       Age  Sex       ALB       ALP       ALT       AST  \\\n",
            "0   1         0 -1.539675    1 -0.844293 -0.758827 -1.485073 -0.597660   \n",
            "1   2         0 -1.539675    1 -0.844293  0.222981 -0.535580 -0.216403   \n",
            "2   3         0 -1.539675    1  1.150866  0.465675  1.142164 -0.040439   \n",
            "3   4         0 -1.539675    1  0.272046 -0.786406  0.625935 -0.524342   \n",
            "4   5         0 -1.539675    1 -0.678029  0.432580  0.810303 -0.201740   \n",
            "\n",
            "        BIL       CHE      CHOL      CREA       GGT      PROT  AST_ALT_ratio  \\\n",
            "0 -0.104753 -0.728265 -2.069345  1.966669 -0.925294 -0.818096       0.402445   \n",
            "1 -1.035802  1.634733 -0.515308 -0.286894 -0.690955  0.946857       0.404055   \n",
            "2 -0.466828  0.336199 -0.119375  0.558192  0.487436  1.605772      -0.035405   \n",
            "3  2.843567 -0.505341 -0.574698  0.135649  0.527609  0.758595      -0.837692   \n",
            "4  0.438358  0.508965 -0.990428 -0.146046  0.266488 -0.888694      -0.248968   \n",
            "\n",
            "   log_AST_ALT_ratio  \n",
            "0          -0.910193  \n",
            "1          -0.906202  \n",
            "2          -3.340870  \n",
            "3          -0.177104  \n",
            "4          -1.390427  \n"
          ]
        }
      ]
    },
    {
      "cell_type": "markdown",
      "source": [
        "#Pisahkan fitur dan target"
      ],
      "metadata": {
        "id": "j5kxr7m5iUj7"
      }
    },
    {
      "cell_type": "code",
      "source": [
        "X = df.drop(columns=[\"ID\", \"Category\"])\n",
        "y = df[\"Category\"]"
      ],
      "metadata": {
        "id": "5ngBZP4bayep"
      },
      "execution_count": null,
      "outputs": []
    },
    {
      "cell_type": "markdown",
      "source": [
        "X berisi semua kolom kecuali ID dan Category, karena ID hanya penanda data dan tidak dibutuhkan untuk pelatihan. y berisi kolom Category yang menjadi label untuk diprediksi oleh model."
      ],
      "metadata": {
        "id": "BO1xCyzziXcR"
      }
    },
    {
      "cell_type": "markdown",
      "source": [
        "#Encode target"
      ],
      "metadata": {
        "id": "RrH9p1CDjQrs"
      }
    },
    {
      "cell_type": "code",
      "source": [
        "le = LabelEncoder()\n",
        "y = le.fit_transform(y)\n",
        "y = to_categorical(y)"
      ],
      "metadata": {
        "id": "M0rSr65ea2p8"
      },
      "execution_count": null,
      "outputs": []
    },
    {
      "cell_type": "markdown",
      "source": [
        "LabelEncoder() mengubah teks kategori (misalnya Healthy, Fibrosis, Cirrhosis) menjadi angka (0, 1, 2).\n",
        "Kemudian to_categorical(y) mengonversi angka tersebut menjadi one-hot encoding, yaitu bentuk vektor biner yang cocok untuk model klasifikasi multi-kelas."
      ],
      "metadata": {
        "id": "yN2Fp2HKjMzj"
      }
    },
    {
      "cell_type": "markdown",
      "source": [
        "#Normalisasi fitur numerik"
      ],
      "metadata": {
        "id": "bD3TX9Zwjbj_"
      }
    },
    {
      "cell_type": "code",
      "source": [
        "scaler = StandardScaler()\n",
        "X_scaled = scaler.fit_transform(X)"
      ],
      "metadata": {
        "id": "_JmojWaKa5Wh"
      },
      "execution_count": null,
      "outputs": []
    },
    {
      "cell_type": "markdown",
      "source": [
        "StandardScaler() mengubah setiap fitur menjadi memiliki rata-rata 0 dan standar deviasi 1.Hal ini membantu model belajar lebih stabil dan cepat, karena semua fitur memiliki rentang nilai yang seragam."
      ],
      "metadata": {
        "id": "nnqCB6PnjiTm"
      }
    },
    {
      "cell_type": "markdown",
      "source": [
        "#Split data (80% training, 20% validation)"
      ],
      "metadata": {
        "id": "ja9CBpaujoGv"
      }
    },
    {
      "cell_type": "code",
      "source": [
        "X_train, X_val, y_train, y_val = train_test_split(\n",
        "    X_scaled, y, test_size=0.2, random_state=42, stratify=y\n",
        ")"
      ],
      "metadata": {
        "id": "OwQygfRIbyFS"
      },
      "execution_count": null,
      "outputs": []
    },
    {
      "cell_type": "markdown",
      "source": [
        "Sebanyak 80% data digunakan untuk melatih model dan 20% sisanya untuk menguji performa (validation).\n",
        "Parameter stratify=y memastikan proporsi tiap kelas tetap seimbang di kedua bagian, sedangkan random_state=42 membuat hasil pembagian selalu sama setiap kali dijalankan."
      ],
      "metadata": {
        "id": "CjemsOOgjvMM"
      }
    },
    {
      "cell_type": "markdown",
      "source": [
        "# Membangun model deep learning sederhana"
      ],
      "metadata": {
        "id": "cK1TQPwOj7sR"
      }
    },
    {
      "cell_type": "code",
      "source": [
        "model = Sequential([\n",
        "    Dense(64, activation='relu', input_shape=(X_train.shape[1],)),\n",
        "    Dropout(0.3),\n",
        "    Dense(32, activation='relu'),\n",
        "    Dense(y.shape[1], activation='softmax')\n",
        "])"
      ],
      "metadata": {
        "colab": {
          "base_uri": "https://localhost:8080/"
        },
        "id": "OkvQTOinbzmg",
        "outputId": "d67625ca-e086-43fd-d1a4-3d1f70ec8b51"
      },
      "execution_count": null,
      "outputs": [
        {
          "output_type": "stream",
          "name": "stderr",
          "text": [
            "/usr/local/lib/python3.12/dist-packages/keras/src/layers/core/dense.py:93: UserWarning: Do not pass an `input_shape`/`input_dim` argument to a layer. When using Sequential models, prefer using an `Input(shape)` object as the first layer in the model instead.\n",
            "  super().__init__(activity_regularizer=activity_regularizer, **kwargs)\n"
          ]
        }
      ]
    },
    {
      "cell_type": "markdown",
      "source": [
        "Model ini memiliki dua hidden layer. Layer pertama berisi 64 neuron dengan aktivasi ReLU yang membantu model belajar pola non-linear dari data. Dropout sebesar 0.3 digunakan untuk mencegah overfitting dengan menonaktifkan sebagian neuron secara acak saat pelatihan. Layer kedua berisi 32 neuron juga dengan aktivasi ReLU. Terakhir, layer output menggunakan aktivasi softmax untuk menghasilkan probabilitas dari setiap kelas pada data target."
      ],
      "metadata": {
        "id": "sgoGXaumkKqi"
      }
    },
    {
      "cell_type": "markdown",
      "source": [
        "#Kompilasi model"
      ],
      "metadata": {
        "id": "mR6P1XJmkNW6"
      }
    },
    {
      "cell_type": "code",
      "source": [
        "model.compile(optimizer='adam', loss='categorical_crossentropy', metrics=['accuracy'])"
      ],
      "metadata": {
        "id": "av0vxLJEb1pk"
      },
      "execution_count": null,
      "outputs": []
    },
    {
      "cell_type": "markdown",
      "source": [
        "Pada tahap ini, model dikompilasi dengan optimizer Adam yang berfungsi menyesuaikan bobot agar proses belajar lebih efisien. Fungsi loss categorical_crossentropy digunakan karena masalah ini adalah klasifikasi multi-kelas. Sementara itu, metrics=['accuracy'] digunakan agar selama pelatihan model menampilkan tingkat akurasi sebagai ukuran kinerjanya."
      ],
      "metadata": {
        "id": "8osOgs6fkULg"
      }
    },
    {
      "cell_type": "markdown",
      "source": [
        "#Melatih model"
      ],
      "metadata": {
        "id": "BpSV4CIpkWkQ"
      }
    },
    {
      "cell_type": "code",
      "source": [
        "history = model.fit(\n",
        "    X_train, y_train,\n",
        "    validation_data=(X_val, y_val),\n",
        "    epochs=50,\n",
        "    batch_size=16,\n",
        "    verbose=1\n",
        ")"
      ],
      "metadata": {
        "colab": {
          "base_uri": "https://localhost:8080/"
        },
        "id": "bSehMPd-b57Q",
        "outputId": "c0c89547-0be2-45ad-a742-a878b7342c05"
      },
      "execution_count": null,
      "outputs": [
        {
          "output_type": "stream",
          "name": "stdout",
          "text": [
            "Epoch 1/50\n",
            "\u001b[1m31/31\u001b[0m \u001b[32m━━━━━━━━━━━━━━━━━━━━\u001b[0m\u001b[37m\u001b[0m \u001b[1m2s\u001b[0m 12ms/step - accuracy: 0.4783 - loss: 1.3374 - val_accuracy: 0.8699 - val_loss: 0.7005\n",
            "Epoch 2/50\n",
            "\u001b[1m31/31\u001b[0m \u001b[32m━━━━━━━━━━━━━━━━━━━━\u001b[0m\u001b[37m\u001b[0m \u001b[1m0s\u001b[0m 4ms/step - accuracy: 0.8452 - loss: 0.7220 - val_accuracy: 0.8699 - val_loss: 0.5017\n",
            "Epoch 3/50\n",
            "\u001b[1m31/31\u001b[0m \u001b[32m━━━━━━━━━━━━━━━━━━━━\u001b[0m\u001b[37m\u001b[0m \u001b[1m0s\u001b[0m 5ms/step - accuracy: 0.8423 - loss: 0.6159 - val_accuracy: 0.8699 - val_loss: 0.4339\n",
            "Epoch 4/50\n",
            "\u001b[1m31/31\u001b[0m \u001b[32m━━━━━━━━━━━━━━━━━━━━\u001b[0m\u001b[37m\u001b[0m \u001b[1m0s\u001b[0m 5ms/step - accuracy: 0.8788 - loss: 0.4314 - val_accuracy: 0.8699 - val_loss: 0.3945\n",
            "Epoch 5/50\n",
            "\u001b[1m31/31\u001b[0m \u001b[32m━━━━━━━━━━━━━━━━━━━━\u001b[0m\u001b[37m\u001b[0m \u001b[1m0s\u001b[0m 5ms/step - accuracy: 0.8597 - loss: 0.4521 - val_accuracy: 0.8699 - val_loss: 0.3705\n",
            "Epoch 6/50\n",
            "\u001b[1m31/31\u001b[0m \u001b[32m━━━━━━━━━━━━━━━━━━━━\u001b[0m\u001b[37m\u001b[0m \u001b[1m0s\u001b[0m 5ms/step - accuracy: 0.9021 - loss: 0.3602 - val_accuracy: 0.8943 - val_loss: 0.3493\n",
            "Epoch 7/50\n",
            "\u001b[1m31/31\u001b[0m \u001b[32m━━━━━━━━━━━━━━━━━━━━\u001b[0m\u001b[37m\u001b[0m \u001b[1m0s\u001b[0m 5ms/step - accuracy: 0.9145 - loss: 0.2916 - val_accuracy: 0.8862 - val_loss: 0.3372\n",
            "Epoch 8/50\n",
            "\u001b[1m31/31\u001b[0m \u001b[32m━━━━━━━━━━━━━━━━━━━━\u001b[0m\u001b[37m\u001b[0m \u001b[1m0s\u001b[0m 5ms/step - accuracy: 0.9318 - loss: 0.3126 - val_accuracy: 0.9106 - val_loss: 0.3288\n",
            "Epoch 9/50\n",
            "\u001b[1m31/31\u001b[0m \u001b[32m━━━━━━━━━━━━━━━━━━━━\u001b[0m\u001b[37m\u001b[0m \u001b[1m0s\u001b[0m 4ms/step - accuracy: 0.8806 - loss: 0.4007 - val_accuracy: 0.9187 - val_loss: 0.3130\n",
            "Epoch 10/50\n",
            "\u001b[1m31/31\u001b[0m \u001b[32m━━━━━━━━━━━━━━━━━━━━\u001b[0m\u001b[37m\u001b[0m \u001b[1m0s\u001b[0m 5ms/step - accuracy: 0.9105 - loss: 0.3086 - val_accuracy: 0.9187 - val_loss: 0.3070\n",
            "Epoch 11/50\n",
            "\u001b[1m31/31\u001b[0m \u001b[32m━━━━━━━━━━━━━━━━━━━━\u001b[0m\u001b[37m\u001b[0m \u001b[1m0s\u001b[0m 5ms/step - accuracy: 0.9079 - loss: 0.2683 - val_accuracy: 0.9187 - val_loss: 0.2985\n",
            "Epoch 12/50\n",
            "\u001b[1m31/31\u001b[0m \u001b[32m━━━━━━━━━━━━━━━━━━━━\u001b[0m\u001b[37m\u001b[0m \u001b[1m0s\u001b[0m 5ms/step - accuracy: 0.9081 - loss: 0.2801 - val_accuracy: 0.9187 - val_loss: 0.2906\n",
            "Epoch 13/50\n",
            "\u001b[1m31/31\u001b[0m \u001b[32m━━━━━━━━━━━━━━━━━━━━\u001b[0m\u001b[37m\u001b[0m \u001b[1m0s\u001b[0m 5ms/step - accuracy: 0.9001 - loss: 0.2922 - val_accuracy: 0.9350 - val_loss: 0.2903\n",
            "Epoch 14/50\n",
            "\u001b[1m31/31\u001b[0m \u001b[32m━━━━━━━━━━━━━━━━━━━━\u001b[0m\u001b[37m\u001b[0m \u001b[1m0s\u001b[0m 5ms/step - accuracy: 0.9575 - loss: 0.2055 - val_accuracy: 0.9350 - val_loss: 0.2829\n",
            "Epoch 15/50\n",
            "\u001b[1m31/31\u001b[0m \u001b[32m━━━━━━━━━━━━━━━━━━━━\u001b[0m\u001b[37m\u001b[0m \u001b[1m0s\u001b[0m 5ms/step - accuracy: 0.9153 - loss: 0.3205 - val_accuracy: 0.9431 - val_loss: 0.2793\n",
            "Epoch 16/50\n",
            "\u001b[1m31/31\u001b[0m \u001b[32m━━━━━━━━━━━━━━━━━━━━\u001b[0m\u001b[37m\u001b[0m \u001b[1m0s\u001b[0m 5ms/step - accuracy: 0.9498 - loss: 0.2084 - val_accuracy: 0.9512 - val_loss: 0.2758\n",
            "Epoch 17/50\n",
            "\u001b[1m31/31\u001b[0m \u001b[32m━━━━━━━━━━━━━━━━━━━━\u001b[0m\u001b[37m\u001b[0m \u001b[1m0s\u001b[0m 5ms/step - accuracy: 0.9094 - loss: 0.2814 - val_accuracy: 0.9512 - val_loss: 0.2772\n",
            "Epoch 18/50\n",
            "\u001b[1m31/31\u001b[0m \u001b[32m━━━━━━━━━━━━━━━━━━━━\u001b[0m\u001b[37m\u001b[0m \u001b[1m0s\u001b[0m 4ms/step - accuracy: 0.9257 - loss: 0.2142 - val_accuracy: 0.9512 - val_loss: 0.2722\n",
            "Epoch 19/50\n",
            "\u001b[1m31/31\u001b[0m \u001b[32m━━━━━━━━━━━━━━━━━━━━\u001b[0m\u001b[37m\u001b[0m \u001b[1m0s\u001b[0m 5ms/step - accuracy: 0.9330 - loss: 0.2420 - val_accuracy: 0.9512 - val_loss: 0.2795\n",
            "Epoch 20/50\n",
            "\u001b[1m31/31\u001b[0m \u001b[32m━━━━━━━━━━━━━━━━━━━━\u001b[0m\u001b[37m\u001b[0m \u001b[1m0s\u001b[0m 5ms/step - accuracy: 0.9337 - loss: 0.2367 - val_accuracy: 0.9512 - val_loss: 0.2761\n",
            "Epoch 21/50\n",
            "\u001b[1m31/31\u001b[0m \u001b[32m━━━━━━━━━━━━━━━━━━━━\u001b[0m\u001b[37m\u001b[0m \u001b[1m0s\u001b[0m 5ms/step - accuracy: 0.9246 - loss: 0.2452 - val_accuracy: 0.9512 - val_loss: 0.2695\n",
            "Epoch 22/50\n",
            "\u001b[1m31/31\u001b[0m \u001b[32m━━━━━━━━━━━━━━━━━━━━\u001b[0m\u001b[37m\u001b[0m \u001b[1m0s\u001b[0m 5ms/step - accuracy: 0.9290 - loss: 0.2136 - val_accuracy: 0.9512 - val_loss: 0.2817\n",
            "Epoch 23/50\n",
            "\u001b[1m31/31\u001b[0m \u001b[32m━━━━━━━━━━━━━━━━━━━━\u001b[0m\u001b[37m\u001b[0m \u001b[1m0s\u001b[0m 5ms/step - accuracy: 0.9355 - loss: 0.1962 - val_accuracy: 0.9512 - val_loss: 0.2748\n",
            "Epoch 24/50\n",
            "\u001b[1m31/31\u001b[0m \u001b[32m━━━━━━━━━━━━━━━━━━━━\u001b[0m\u001b[37m\u001b[0m \u001b[1m0s\u001b[0m 5ms/step - accuracy: 0.9362 - loss: 0.1713 - val_accuracy: 0.9512 - val_loss: 0.2734\n",
            "Epoch 25/50\n",
            "\u001b[1m31/31\u001b[0m \u001b[32m━━━━━━━━━━━━━━━━━━━━\u001b[0m\u001b[37m\u001b[0m \u001b[1m0s\u001b[0m 5ms/step - accuracy: 0.9378 - loss: 0.2241 - val_accuracy: 0.9512 - val_loss: 0.2686\n",
            "Epoch 26/50\n",
            "\u001b[1m31/31\u001b[0m \u001b[32m━━━━━━━━━━━━━━━━━━━━\u001b[0m\u001b[37m\u001b[0m \u001b[1m0s\u001b[0m 5ms/step - accuracy: 0.9450 - loss: 0.1802 - val_accuracy: 0.9512 - val_loss: 0.2693\n",
            "Epoch 27/50\n",
            "\u001b[1m31/31\u001b[0m \u001b[32m━━━━━━━━━━━━━━━━━━━━\u001b[0m\u001b[37m\u001b[0m \u001b[1m0s\u001b[0m 5ms/step - accuracy: 0.9381 - loss: 0.2260 - val_accuracy: 0.9512 - val_loss: 0.2759\n",
            "Epoch 28/50\n",
            "\u001b[1m31/31\u001b[0m \u001b[32m━━━━━━━━━━━━━━━━━━━━\u001b[0m\u001b[37m\u001b[0m \u001b[1m0s\u001b[0m 5ms/step - accuracy: 0.9389 - loss: 0.1834 - val_accuracy: 0.9512 - val_loss: 0.2682\n",
            "Epoch 29/50\n",
            "\u001b[1m31/31\u001b[0m \u001b[32m━━━━━━━━━━━━━━━━━━━━\u001b[0m\u001b[37m\u001b[0m \u001b[1m0s\u001b[0m 6ms/step - accuracy: 0.9509 - loss: 0.1897 - val_accuracy: 0.9512 - val_loss: 0.2687\n",
            "Epoch 30/50\n",
            "\u001b[1m31/31\u001b[0m \u001b[32m━━━━━━━━━━━━━━━━━━━━\u001b[0m\u001b[37m\u001b[0m \u001b[1m0s\u001b[0m 5ms/step - accuracy: 0.9671 - loss: 0.1335 - val_accuracy: 0.9512 - val_loss: 0.2681\n",
            "Epoch 31/50\n",
            "\u001b[1m31/31\u001b[0m \u001b[32m━━━━━━━━━━━━━━━━━━━━\u001b[0m\u001b[37m\u001b[0m \u001b[1m0s\u001b[0m 5ms/step - accuracy: 0.9533 - loss: 0.1201 - val_accuracy: 0.9512 - val_loss: 0.2704\n",
            "Epoch 32/50\n",
            "\u001b[1m31/31\u001b[0m \u001b[32m━━━━━━━━━━━━━━━━━━━━\u001b[0m\u001b[37m\u001b[0m \u001b[1m0s\u001b[0m 5ms/step - accuracy: 0.9588 - loss: 0.1278 - val_accuracy: 0.9512 - val_loss: 0.2687\n",
            "Epoch 33/50\n",
            "\u001b[1m31/31\u001b[0m \u001b[32m━━━━━━━━━━━━━━━━━━━━\u001b[0m\u001b[37m\u001b[0m \u001b[1m0s\u001b[0m 5ms/step - accuracy: 0.9545 - loss: 0.1265 - val_accuracy: 0.9512 - val_loss: 0.2766\n",
            "Epoch 34/50\n",
            "\u001b[1m31/31\u001b[0m \u001b[32m━━━━━━━━━━━━━━━━━━━━\u001b[0m\u001b[37m\u001b[0m \u001b[1m0s\u001b[0m 14ms/step - accuracy: 0.9556 - loss: 0.1341 - val_accuracy: 0.9512 - val_loss: 0.2712\n",
            "Epoch 35/50\n",
            "\u001b[1m31/31\u001b[0m \u001b[32m━━━━━━━━━━━━━━━━━━━━\u001b[0m\u001b[37m\u001b[0m \u001b[1m0s\u001b[0m 5ms/step - accuracy: 0.9542 - loss: 0.1532 - val_accuracy: 0.9512 - val_loss: 0.2796\n",
            "Epoch 36/50\n",
            "\u001b[1m31/31\u001b[0m \u001b[32m━━━━━━━━━━━━━━━━━━━━\u001b[0m\u001b[37m\u001b[0m \u001b[1m0s\u001b[0m 5ms/step - accuracy: 0.9661 - loss: 0.1448 - val_accuracy: 0.9512 - val_loss: 0.2803\n",
            "Epoch 37/50\n",
            "\u001b[1m31/31\u001b[0m \u001b[32m━━━━━━━━━━━━━━━━━━━━\u001b[0m\u001b[37m\u001b[0m \u001b[1m0s\u001b[0m 11ms/step - accuracy: 0.9468 - loss: 0.1519 - val_accuracy: 0.9431 - val_loss: 0.2882\n",
            "Epoch 38/50\n",
            "\u001b[1m31/31\u001b[0m \u001b[32m━━━━━━━━━━━━━━━━━━━━\u001b[0m\u001b[37m\u001b[0m \u001b[1m0s\u001b[0m 5ms/step - accuracy: 0.9556 - loss: 0.1245 - val_accuracy: 0.9512 - val_loss: 0.2795\n",
            "Epoch 39/50\n",
            "\u001b[1m31/31\u001b[0m \u001b[32m━━━━━━━━━━━━━━━━━━━━\u001b[0m\u001b[37m\u001b[0m \u001b[1m0s\u001b[0m 5ms/step - accuracy: 0.9599 - loss: 0.1265 - val_accuracy: 0.9512 - val_loss: 0.2808\n",
            "Epoch 40/50\n",
            "\u001b[1m31/31\u001b[0m \u001b[32m━━━━━━━━━━━━━━━━━━━━\u001b[0m\u001b[37m\u001b[0m \u001b[1m0s\u001b[0m 13ms/step - accuracy: 0.9734 - loss: 0.1020 - val_accuracy: 0.9512 - val_loss: 0.2791\n",
            "Epoch 41/50\n",
            "\u001b[1m31/31\u001b[0m \u001b[32m━━━━━━━━━━━━━━━━━━━━\u001b[0m\u001b[37m\u001b[0m \u001b[1m0s\u001b[0m 6ms/step - accuracy: 0.9557 - loss: 0.1296 - val_accuracy: 0.9512 - val_loss: 0.2853\n",
            "Epoch 42/50\n",
            "\u001b[1m31/31\u001b[0m \u001b[32m━━━━━━━━━━━━━━━━━━━━\u001b[0m\u001b[37m\u001b[0m \u001b[1m0s\u001b[0m 8ms/step - accuracy: 0.9449 - loss: 0.1277 - val_accuracy: 0.9512 - val_loss: 0.2851\n",
            "Epoch 43/50\n",
            "\u001b[1m31/31\u001b[0m \u001b[32m━━━━━━━━━━━━━━━━━━━━\u001b[0m\u001b[37m\u001b[0m \u001b[1m0s\u001b[0m 7ms/step - accuracy: 0.9560 - loss: 0.1164 - val_accuracy: 0.9512 - val_loss: 0.2931\n",
            "Epoch 44/50\n",
            "\u001b[1m31/31\u001b[0m \u001b[32m━━━━━━━━━━━━━━━━━━━━\u001b[0m\u001b[37m\u001b[0m \u001b[1m0s\u001b[0m 8ms/step - accuracy: 0.9422 - loss: 0.1375 - val_accuracy: 0.9431 - val_loss: 0.2927\n",
            "Epoch 45/50\n",
            "\u001b[1m31/31\u001b[0m \u001b[32m━━━━━━━━━━━━━━━━━━━━\u001b[0m\u001b[37m\u001b[0m \u001b[1m0s\u001b[0m 7ms/step - accuracy: 0.9510 - loss: 0.1089 - val_accuracy: 0.9512 - val_loss: 0.2866\n",
            "Epoch 46/50\n",
            "\u001b[1m31/31\u001b[0m \u001b[32m━━━━━━━━━━━━━━━━━━━━\u001b[0m\u001b[37m\u001b[0m \u001b[1m0s\u001b[0m 7ms/step - accuracy: 0.9482 - loss: 0.1114 - val_accuracy: 0.9512 - val_loss: 0.2837\n",
            "Epoch 47/50\n",
            "\u001b[1m31/31\u001b[0m \u001b[32m━━━━━━━━━━━━━━━━━━━━\u001b[0m\u001b[37m\u001b[0m \u001b[1m0s\u001b[0m 7ms/step - accuracy: 0.9538 - loss: 0.1387 - val_accuracy: 0.9350 - val_loss: 0.2970\n",
            "Epoch 48/50\n",
            "\u001b[1m31/31\u001b[0m \u001b[32m━━━━━━━━━━━━━━━━━━━━\u001b[0m\u001b[37m\u001b[0m \u001b[1m0s\u001b[0m 8ms/step - accuracy: 0.9675 - loss: 0.1098 - val_accuracy: 0.9431 - val_loss: 0.2960\n",
            "Epoch 49/50\n",
            "\u001b[1m31/31\u001b[0m \u001b[32m━━━━━━━━━━━━━━━━━━━━\u001b[0m\u001b[37m\u001b[0m \u001b[1m0s\u001b[0m 8ms/step - accuracy: 0.9547 - loss: 0.1159 - val_accuracy: 0.9431 - val_loss: 0.2998\n",
            "Epoch 50/50\n",
            "\u001b[1m31/31\u001b[0m \u001b[32m━━━━━━━━━━━━━━━━━━━━\u001b[0m\u001b[37m\u001b[0m \u001b[1m0s\u001b[0m 6ms/step - accuracy: 0.9552 - loss: 0.1157 - val_accuracy: 0.9512 - val_loss: 0.2918\n"
          ]
        }
      ]
    },
    {
      "cell_type": "markdown",
      "source": [
        "Kode ini menjalankan proses pelatihan model menggunakan data training dan sekaligus memantau performanya pada data validation.Selama 50 epoch, model akan belajar menyesuaikan bobot agar kesalahan prediksi semakin kecil. Setiap epoch, hasil pelatihan dievaluasi pada data validation untuk melihat apakah model belajar dengan baik atau justru overfitting. Parameter batch_size=16 menentukan bahwa model memperbarui bobotnya setiap kali memproses 16 sampel data, sedangkan verbose=1 membuat proses pelatihan ditampilkan secara rinci di output."
      ],
      "metadata": {
        "id": "0AECXASMkjTY"
      }
    },
    {
      "cell_type": "markdown",
      "source": [
        "#Evaluasi akurasi"
      ],
      "metadata": {
        "id": "Ku0GGlY_kuZ-"
      }
    },
    {
      "cell_type": "code",
      "source": [
        "train_acc = history.history['accuracy'][-1]\n",
        "val_acc = history.history['val_accuracy'][-1]\n",
        "print(f\"Akurasi Training: {train_acc*100:.2f}%\")\n",
        "print(f\"Akurasi Validation: {val_acc*100:.2f}%\")"
      ],
      "metadata": {
        "colab": {
          "base_uri": "https://localhost:8080/"
        },
        "id": "VN_akDF2b7vY",
        "outputId": "868e0263-f55a-435b-9714-e844a51760a0"
      },
      "execution_count": null,
      "outputs": [
        {
          "output_type": "stream",
          "name": "stdout",
          "text": [
            "Akurasi Training: 96.54%\n",
            "Akurasi Validation: 95.12%\n"
          ]
        }
      ]
    },
    {
      "cell_type": "markdown",
      "source": [
        "Kode ini digunakan untuk melihat hasil akhir akurasi model setelah proses pelatihan selesai."
      ],
      "metadata": {
        "id": "4oZBcMjIkx-x"
      }
    },
    {
      "cell_type": "markdown",
      "source": [
        "#Menampilkan Grafik"
      ],
      "metadata": {
        "id": "4ZMIQCUzlNoM"
      }
    },
    {
      "cell_type": "code",
      "source": [
        "plt.plot(history.history['accuracy'], label='Training')\n",
        "plt.plot(history.history['val_accuracy'], label='Validation')\n",
        "plt.title('Training vs Validation Accuracy')\n",
        "plt.xlabel('Epoch')\n",
        "plt.ylabel('Accuracy')\n",
        "plt.legend()\n",
        "plt.show()\n"
      ],
      "metadata": {
        "colab": {
          "base_uri": "https://localhost:8080/",
          "height": 472
        },
        "id": "c_P5VNYfk9Nd",
        "outputId": "ee50fbaa-dc56-4b61-c661-ea3c2c37c9c6"
      },
      "execution_count": null,
      "outputs": [
        {
          "output_type": "display_data",
          "data": {
            "text/plain": [
              "<Figure size 640x480 with 1 Axes>"
            ],
            "image/png": "[encoded data removed]"
          },
          "metadata": {}
        }
      ]
    },
    {
      "cell_type": "markdown",
      "source": [
        "#Kesimpulan"
      ],
      "metadata": {
        "id": "iatKO9mHmC-F"
      }
    },
    {
      "cell_type": "markdown",
      "source": [
        "Model deep learning sederhana ini mampu melakukan klasifikasi pada dataset Hepatitis dengan dua hidden layer dan dropout untuk menghindari overfitting. Dengan optimisasi Adam dan aktivasi ReLU, model biasanya mampu mencapai akurasi di atas 70% untuk training dan validation."
      ],
      "metadata": {
        "id": "Ygzpko2ImHbe"
      }
    }
  ]
}